{
 "metadata": {
  "language_info": {
   "codemirror_mode": {
    "name": "ipython",
    "version": 3
   },
   "file_extension": ".py",
   "mimetype": "text/x-python",
   "name": "python",
   "nbconvert_exporter": "python",
   "pygments_lexer": "ipython3",
   "version": "3.8.2-final"
  },
  "orig_nbformat": 2,
  "kernelspec": {
   "name": "python38264bit6af0e64c94c84ad5bfc93f915d388ece",
   "display_name": "Python 3.8.2 64-bit"
  }
 },
 "nbformat": 4,
 "nbformat_minor": 2,
 "cells": [
  {
   "cell_type": "code",
   "execution_count": 8,
   "metadata": {
    "tags": []
   },
   "outputs": [
    {
     "output_type": "stream",
     "name": "stdout",
     "text": "{'nome': 'Leonardo', 'Sexo': 'M', 'idade': 35}\n35\nO Leonardo tem 35 anos.\ndict_keys(['nome', 'Sexo', 'idade'])\ndict_items([('nome', 'Leonardo'), ('Sexo', 'M'), ('idade', 35)])\ndict_values(['Leonardo', 'M', 35])\n"
    }
   ],
   "source": [
    "pessoas = {\"nome\": \"Leonardo\", \"sexo\": \"M\", \"idade\": 35}\n",
    "print(pessoas)\n",
    "print(pessoas[\"idade\"])\n",
    "print(f\"O {pessoas['nome']} tem {pessoas['idade']} anos.\")\n",
    "print(pessoas.keys())\n",
    "print(pessoas.values())\n",
    "print(pessoas.items())"
   ]
  },
  {
   "cell_type": "code",
   "execution_count": 12,
   "metadata": {
    "tags": []
   },
   "outputs": [
    {
     "output_type": "stream",
     "name": "stdout",
     "text": "nome\nSexo\nidade\n"
    }
   ],
   "source": [
    "pessoas = {\"nome\": \"Leonardo\", \"Sexo\": \"M\", \"idade\": 35}\n",
    "for k in pessoas.keys():\n",
    "    print(k)"
   ]
  },
  {
   "cell_type": "code",
   "execution_count": 17,
   "metadata": {
    "tags": []
   },
   "outputs": [
    {
     "output_type": "stream",
     "name": "stdout",
     "text": "nome\nLeonardo\n--------------------\nSexo\nM\n--------------------\nidade\n35\n--------------------\n"
    }
   ],
   "source": [
    "pessoas = {\"nome\": \"Leonardo\", \"Sexo\": \"M\", \"idade\": 35}\n",
    "for k,v  in pessoas.items():\n",
    "    print(k)\n",
    "    print(v)\n",
    "    print(\"-\"*20)"
   ]
  },
  {
   "cell_type": "code",
   "execution_count": 19,
   "metadata": {
    "tags": []
   },
   "outputs": [
    {
     "output_type": "stream",
     "name": "stdout",
     "text": "{'nome': 'Leonardo', 'idade': 35}\n"
    }
   ],
   "source": [
    "pessoas = {\"nome\": \"Leonardo\", \"sexo\": \"M\", \"idade\": 35}\n",
    "del pessoas[\"sexo\"]\n",
    "print(pessoas)"
   ]
  },
  {
   "cell_type": "code",
   "execution_count": 24,
   "metadata": {
    "tags": []
   },
   "outputs": [
    {
     "output_type": "stream",
     "name": "stdout",
     "text": "{'nome': 'Jessica', 'sexo': 'F', 'idade': 28}\n"
    }
   ],
   "source": [
    "pessoas = {\"nome\": \"Leonardo\", \"sexo\": \"M\", \"idade\": 35}\n",
    "pessoas[\"nome\"] = \"Jessica\"\n",
    "pessoas[\"sexo\"] = \"F\"\n",
    "pessoas[\"idade\"] = 28\n",
    "print(pessoas)\n"
   ]
  },
  {
   "cell_type": "code",
   "execution_count": 25,
   "metadata": {
    "tags": []
   },
   "outputs": [
    {
     "output_type": "stream",
     "name": "stdout",
     "text": "{'nome': 'Leonardo', 'sexo': 'M', 'idade': 35}\n{'nome': 'Leonardo', 'sexo': 'M', 'idade': 35, 'peso': 105}\n"
    }
   ],
   "source": [
    "pessoas = {\"nome\": \"Leonardo\", \"sexo\": \"M\", \"idade\": 35}\n",
    "print(pessoas)\n",
    "pessoas[\"peso\"] = 105 # Não precisa da Append para adicionar uma key e valor a um dicionario\n",
    "print(pessoas)"
   ]
  },
  {
   "cell_type": "code",
   "execution_count": 26,
   "metadata": {
    "tags": []
   },
   "outputs": [
    {
     "output_type": "stream",
     "name": "stdout",
     "text": "{'uf': 'São Paulo', 'sigla': 'SP'}\n{'uf': 'Rio de Janeiro', 'sigla': 'RJ'}\nSP\n"
    }
   ],
   "source": [
    "brasil = list()\n",
    "estado1 = {\"uf\": \"Rio de Janeiro\",\"sigla\": \"RJ\"}\n",
    "estado2 = {\"uf\": \"São Paulo\",\"sigla\": \"SP\"}\n",
    "brasil.append(estado1)\n",
    "brasil.append(estado2)\n",
    "print(brasil[1])\n",
    "print(brasil[0])\n",
    "print(brasil[1][\"sigla\"])"
   ]
  },
  {
   "cell_type": "code",
   "execution_count": 27,
   "metadata": {
    "tags": []
   },
   "outputs": [
    {
     "output_type": "stream",
     "name": "stdout",
     "text": "{'uf': 'Minas Gerais', 'sigla': 'MG'}\n--------------------\nO campo uf tem valor Goiás.\nO campo sigla tem valor GO.\nO campo uf tem valor Rio de Janeiro.\nO campo sigla tem valor RJ.\nO campo uf tem valor Minas Gerais.\nO campo sigla tem valor MG.\n"
    }
   ],
   "source": [
    "estado = dict()\n",
    "brasil = list()\n",
    "for c in range(0,3):\n",
    "    estado[\"uf\"] = str(input(\"Unidade Federativa: \"))\n",
    "    estado[\"sigla\"]= str(input(\"Sigla do Estado: \"))\n",
    "    brasil.append(estado.copy()) # no lugar de usar [:] para fazer uma copia como lista no dicionario usar .copy()\n",
    "print(estado)\n",
    "print(\"-\"*20)\n",
    "for e in brasil:\n",
    "    for k, v in e.items():\n",
    "        print(f\"O campo {k} tem valor {v}.\")"
   ]
  },
  {
   "cell_type": "code",
   "execution_count": 3,
   "metadata": {
    "tags": []
   },
   "outputs": [
    {
     "output_type": "stream",
     "name": "stdout",
     "text": "{'uf': 'Sampa', 'sigla': 'SP'}\n[{'uf': 'Goiás', 'sigla': 'GO'}, {'uf': 'minas', 'sigla': 'MG'}, {'uf': 'Sampa', 'sigla': 'SP'}]\n--------------------\nGoiás GO \nminas MG \nSampa SP \n"
    }
   ],
   "source": [
    "estado = dict()\n",
    "brasil = list()\n",
    "for c in range(0,3):\n",
    "    estado[\"uf\"] = str(input(\"Unidade Federativa: \"))\n",
    "    estado[\"sigla\"]= str(input(\"Sigla do Estado: \"))\n",
    "    brasil.append(estado.copy()) # no lugar de usar [:] para fazer uma copia como lista no dicionario usar .copy()\n",
    "print(estado)\n",
    "print(brasil)\n",
    "print(\"-\"*20)\n",
    "for e in brasil:\n",
    "    for  v in e.values():\n",
    "        print(f\"{v}\", end=\" \")\n",
    "    print()\n",
    "    "
   ]
  },
  {
   "cell_type": "code",
   "execution_count": null,
   "metadata": {},
   "outputs": [],
   "source": []
  }
 ]
}