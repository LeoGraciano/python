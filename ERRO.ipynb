{
 "metadata": {
  "language_info": {
   "codemirror_mode": {
    "name": "ipython",
    "version": 3
   },
   "file_extension": ".py",
   "mimetype": "text/x-python",
   "name": "python",
   "nbconvert_exporter": "python",
   "pygments_lexer": "ipython3",
   "version": "3.8.5-final"
  },
  "orig_nbformat": 2,
  "kernelspec": {
   "name": "python_defaultSpec_1600695500951",
   "display_name": "Python 3.8.5 64-bit"
  }
 },
 "nbformat": 4,
 "nbformat_minor": 2,
 "cells": [
  {
   "cell_type": "code",
   "execution_count": 1,
   "metadata": {
    "tags": []
   },
   "outputs": [
    {
     "output_type": "stream",
     "name": "stdout",
     "text": "Não é Possível dividir um numero por Zero\nVolte Sempre! Muito Obrigado!!!\n"
    }
   ],
   "source": [
    "try:\n",
    "    a = int(input(\"Numerador: \"))\n",
    "    b = int(input(\"Denominador:\"))\n",
    "    r = a/b\n",
    "except (ValueError,TypeError):\n",
    "    print(\"Tivemos um problema com tipo de dados que você digitou!!\")\n",
    "except ZeroDivisionError:\n",
    "    print(\"Não é Possível dividir um numero por Zero\")\n",
    "except KeyboardInterrupt:\n",
    "    print(\"Usuário preferiu não digitar os dados\")\n",
    "except Exception as erro:\n",
    "    print(f\"O erro encontra foi {erro.__class__}\")\n",
    "else:\n",
    "    print(f\"O resultado é {r:.1f}\")\n",
    "finally:\n",
    "    print(\"Volte Sempre! Muito Obrigado!!!\")"
   ]
  },
  {
   "cell_type": "code",
   "execution_count": null,
   "metadata": {},
   "outputs": [],
   "source": []
  }
 ]
}