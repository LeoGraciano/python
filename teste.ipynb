{
 "metadata": {
  "language_info": {
   "codemirror_mode": {
    "name": "ipython",
    "version": 3
   },
   "file_extension": ".py",
   "mimetype": "text/x-python",
   "name": "python",
   "nbconvert_exporter": "python",
   "pygments_lexer": "ipython3",
   "version": 3
  },
  "orig_nbformat": 2
 },
 "nbformat": 4,
 "nbformat_minor": 2,
 "cells": [
  {
   "cell_type": "code",
   "execution_count": null,
   "metadata": {},
   "outputs": [],
   "source": [
    "m = \"\"\n",
    "r = \"\"\n",
    "while m == 5:  \n",
    "    n1 = int(input(\"Qual o primeiro numero: \"))\n",
    "    n2 = int(input(\"Digite o segundo numero: \"))\n",
    "    print('''Escolha uma opção:\n",
    "    [1] - SOMAR\n",
    "    [2] - MULTIPLICA\n",
    "    [3] - MAIOR\n",
    "    [4] - DIGITAR NOVOS NUMEROS\n",
    "    [5] - SAI DO PROGRAMA''')\n",
    "    m = int(input(\"QUAL OPÇÃO DO MENU: \"))\n",
    "    if m == 1:\n",
    "            r = n1+n2\n",
    "            print (s)\n",
    "            m = 0\n",
    "    elif m == 2:\n",
    "            r = n1 * n2\n",
    "    elif m == 3:\n",
    "        if n1 > n2:\n",
    "            print (f\"O número {n1} é maior.\")\n",
    "            m = 0\n",
    "        elif n2 > n1:\n",
    "            print (f\"O numero {n2}é maior.\")\n",
    "            m = 0\n",
    "        else:\n",
    "            print (\" Dois números são iguais.\")\n",
    "    elif m == 4:\n",
    "        m = 0\n",
    "    elif m == 5:\n",
    "        m = 5\n",
    "    else:\n",
    "        print(\"Escolha novamente.\")"
   ]
  }
 ]
}