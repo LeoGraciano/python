{
 "metadata": {
  "language_info": {
   "codemirror_mode": {
    "name": "ipython",
    "version": 3
   },
   "file_extension": ".py",
   "mimetype": "text/x-python",
   "name": "python",
   "nbconvert_exporter": "python",
   "pygments_lexer": "ipython3",
   "version": "3.8.2-final"
  },
  "orig_nbformat": 2,
  "kernelspec": {
   "name": "python38264bitvenvvenvc7328f15889a45e48c1bab46292010fc",
   "display_name": "Python 3.8.2 64-bit ('venv': venv)"
  }
 },
 "nbformat": 4,
 "nbformat_minor": 2,
 "cells": [
  {
   "cell_type": "code",
   "execution_count": 1,
   "metadata": {},
   "outputs": [],
   "source": [
    "def contador(i=0, f=0, p=0):\n",
    "    \"\"\"[Faz uma Contagem e mostra na Tela.]\n",
    "    Args:\n",
    "        i (int): [Inicio da contagem]. Defaults to 0.\n",
    "        f (int): [Fim da contagem]. Defaults to 0.\n",
    "        p (int): [Passo da contagem]. Defaults to 0.\n",
    "    \"\"\"\n",
    "    c = i\n",
    "    while c <= f:\n",
    "        print(f\"{c} \", end=\"\")\n",
    "        c += p\n",
    "    print(\"Fim\")"
   ]
  },
  {
   "source": [
    "def soma(a=0,b=0,c=0):\n",
    "    s = a+b+c\n",
    "    print(f\"A soma de {s}\")\n",
    "    "
   ],
   "cell_type": "code",
   "metadata": {},
   "execution_count": 2,
   "outputs": []
  },
  {
   "cell_type": "code",
   "execution_count": 3,
   "metadata": {
    "tags": []
   },
   "outputs": [
    {
     "output_type": "stream",
     "name": "stdout",
     "text": "A soma de 6\n"
    }
   ],
   "source": [
    "soma(1,2,3)"
   ]
  },
  {
   "cell_type": "code",
   "execution_count": 11,
   "metadata": {
    "tags": []
   },
   "outputs": [
    {
     "output_type": "stream",
     "name": "stdout",
     "text": "Fatorial de 120 3628800 1307674368000\n"
    }
   ],
   "source": [
    "def fatorial(num=1):\n",
    "    f =1\n",
    "    for c in range(num,0,-1):\n",
    "        f*=c\n",
    "    return f\n",
    "\n",
    "\n",
    "f1 =fatorial(5)\n",
    "f2 =fatorial(10)\n",
    "f3 =fatorial(15)\n",
    "print(f\"Fatorial de {f1}, {f2}, {f3}\")"
   ]
  },
  {
   "cell_type": "code",
   "execution_count": 12,
   "metadata": {
    "tags": []
   },
   "outputs": [
    {
     "output_type": "stream",
     "name": "stdout",
     "text": "O fatorial de 10 é 3628800\n"
    }
   ],
   "source": [
    "def fatorial(num=1):\n",
    "    f =1\n",
    "    for c in range(num,0,-1):\n",
    "        f*=c\n",
    "    return f\n",
    "\n",
    "n = int(input(\"Digite um Numero\"))\n",
    "print(f\"O fatorial de {n} é {fatorial(n)}\")"
   ]
  },
  {
   "cell_type": "code",
   "execution_count": null,
   "metadata": {},
   "outputs": [],
   "source": []
  }
 ]
}