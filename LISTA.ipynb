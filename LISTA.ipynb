{
 "metadata": {
  "language_info": {
   "codemirror_mode": {
    "name": "ipython",
    "version": 3
   },
   "file_extension": ".py",
   "mimetype": "text/x-python",
   "name": "python",
   "nbconvert_exporter": "python",
   "pygments_lexer": "ipython3",
   "version": "3.8.5-final"
  },
  "orig_nbformat": 2,
  "kernelspec": {
   "name": "python38532bita2717775b9d948d19557e17840cd6538",
   "display_name": "Python 3.8.5 32-bit"
  }
 },
 "nbformat": 4,
 "nbformat_minor": 2,
 "cells": [
  {
   "cell_type": "code",
   "execution_count": 4,
   "metadata": {
    "tags": []
   },
   "outputs": [
    {
     "output_type": "stream",
     "name": "stdout",
     "text": "[2, 5, 3, 1]\n"
    }
   ],
   "source": [
    "n = [2,5,9,1]\n",
    "n[2]=3\n",
    "print(n)"
   ]
  },
  {
   "cell_type": "code",
   "execution_count": 5,
   "metadata": {
    "tags": []
   },
   "outputs": [
    {
     "output_type": "stream",
     "name": "stdout",
     "text": "[2, 5, 9, 1, 7]\n"
    }
   ],
   "source": [
    "n = [2,5,9,1]\n",
    "n.append(7)\n",
    "print(n)"
   ]
  },
  {
   "cell_type": "code",
   "execution_count": 6,
   "metadata": {
    "tags": []
   },
   "outputs": [
    {
     "output_type": "stream",
     "name": "stdout",
     "text": "[1, 2, 5, 9]\n"
    }
   ],
   "source": [
    "n = [2,5,9,1]\n",
    "n.sort()\n",
    "print(n)"
   ]
  },
  {
   "cell_type": "code",
   "execution_count": 7,
   "metadata": {
    "tags": []
   },
   "outputs": [
    {
     "output_type": "stream",
     "name": "stdout",
     "text": "[9, 5, 2, 1]\n"
    }
   ],
   "source": [
    "n = [2,5,9,1]\n",
    "n.sort(reverse=True)\n",
    "print(n)"
   ]
  },
  {
   "cell_type": "code",
   "execution_count": 8,
   "metadata": {
    "tags": []
   },
   "outputs": [
    {
     "output_type": "stream",
     "name": "stdout",
     "text": "[2, 5, 0, 9, 1]\n"
    }
   ],
   "source": [
    "n = [2,5,9,1]\n",
    "n.insert(2,0)\n",
    "print(n)"
   ]
  },
  {
   "cell_type": "code",
   "execution_count": 9,
   "metadata": {
    "tags": []
   },
   "outputs": [
    {
     "output_type": "stream",
     "name": "stdout",
     "text": "[2, 5, 1]\n"
    }
   ],
   "source": [
    "n = [2,5,9,1]\n",
    "n.pop(2)\n",
    "print(n) "
   ]
  },
  {
   "cell_type": "code",
   "execution_count": 10,
   "metadata": {
    "tags": []
   },
   "outputs": [
    {
     "output_type": "stream",
     "name": "stdout",
     "text": "[2, 5, 9, 1]\nEssa lista tem 4 elementos.\n"
    }
   ],
   "source": [
    "n = [2,5,9,1]\n",
    "print(n)\n",
    "print(f\"Essa lista tem {len(n)} elementos.\")"
   ]
  },
  {
   "cell_type": "code",
   "execution_count": 12,
   "metadata": {
    "tags": []
   },
   "outputs": [
    {
     "output_type": "stream",
     "name": "stdout",
     "text": "Não achei o valor\n[2, 5, 9, 1]\n"
    }
   ],
   "source": [
    "n = [2,5,9,1]\n",
    "if 4 in n:\n",
    "    n.remove(4)\n",
    "else:\n",
    "    print(\"Não achei o valor\")\n",
    "print(n)"
   ]
  },
  {
   "cell_type": "code",
   "execution_count": 13,
   "metadata": {
    "tags": []
   },
   "outputs": [
    {
     "output_type": "stream",
     "name": "stdout",
     "text": "[2, 9, 1]\n"
    }
   ],
   "source": [
    "n = [2,5,9,1]\n",
    "if 5 in n:\n",
    "    n.remove(5)\n",
    "else:\n",
    "    print(\"Não achei o valor\")\n",
    "print(n)"
   ]
  },
  {
   "cell_type": "code",
   "execution_count": 14,
   "metadata": {
    "tags": []
   },
   "outputs": [
    {
     "output_type": "stream",
     "name": "stdout",
     "text": "5 9 4"
    }
   ],
   "source": [
    "v = [] # Ou \"v =  list()\"\n",
    "v.append(5)\n",
    "v.append(9)\n",
    "v.append(4)\n",
    "for l in v:\n",
    "    print(f\"{l}\", end=\" \")"
   ]
  },
  {
   "cell_type": "code",
   "execution_count": 20,
   "metadata": {
    "tags": []
   },
   "outputs": [
    {
     "output_type": "stream",
     "name": "stdout",
     "text": "Na posição 0 encontrei o valor 5!!\nNa posição 1 encontrei o valor 9!!\nNa posição 2 encontrei o valor 4!!\nCheguei ao final da lista\n"
    }
   ],
   "source": [
    "v = list()\n",
    "v.append(5)\n",
    "v.append(9)\n",
    "v.append(4)\n",
    "for c, l in enumerate(v):\n",
    "    print(f\"Na posição {c} encontrei o valor {l}!!\")\n",
    "print (\"Cheguei ao final da lista\")"
   ]
  },
  {
   "cell_type": "code",
   "execution_count": 22,
   "metadata": {
    "tags": []
   },
   "outputs": [
    {
     "output_type": "stream",
     "name": "stdout",
     "text": "Na posição encontrei o valor (0, 5)!!\nNa posição encontrei o valor (1, 9)!!\nNa posição encontrei o valor (2, 4)!!\nCheguei ao final da lista\n"
    }
   ],
   "source": [
    "\n",
    "v = list()\n",
    "v.append(5)\n",
    "v.append(9)\n",
    "v.append(4)\n",
    "for l1 in enumerate(v):\n",
    "    print(f\"Na posição encontrei o valor {l1}!!\")\n",
    "print (\"Cheguei ao final da lista\")\n",
    "    "
   ]
  },
  {
   "cell_type": "code",
   "execution_count": 26,
   "metadata": {
    "tags": []
   },
   "outputs": [
    {
     "output_type": "stream",
     "name": "stdout",
     "text": "Na posição 0 encontrei o valor 5 !!\nNa posição 1 encontrei o valor 10 !!\nNa posição 2 encontrei o valor 99 !!\nNa posição 3 encontrei o valor 30 !!\nNa posição 4 encontrei o valor 80 !!\nCheguei no final da lista\n"
    }
   ],
   "source": [
    "v = list()\n",
    "for c in range(0,5):\n",
    "    v.append(int(input(\"Digite um valor: \")))\n",
    "\n",
    "for p, i in enumerate(v):\n",
    "    print(f\"Na posição {p} encontrei o valor {i} !!\")\n",
    "print(\"Cheguei no final da lista\")\n"
   ]
  },
  {
   "cell_type": "code",
   "execution_count": 27,
   "metadata": {
    "tags": []
   },
   "outputs": [
    {
     "output_type": "stream",
     "name": "stdout",
     "text": "[2, 3, 4, 7]\n[2, 3, 4, 7]\n"
    }
   ],
   "source": [
    "a = [2,3,4,7]\n",
    "b = a # Python cria uma ligação entre as lista, alterando as duas\n",
    "print(f\"Lista A: {a}\")\n",
    "print(f\"Lista B: {b}\")"
   ]
  },
  {
   "cell_type": "code",
   "execution_count": 30,
   "metadata": {
    "tags": []
   },
   "outputs": [
    {
     "output_type": "stream",
     "name": "stdout",
     "text": "[2, 3, 8, 7]\n[2, 3, 8, 7]\n"
    }
   ],
   "source": [
    "a = [2,3,4,7]\n",
    "b = a # Python cria uma ligação entre as lista, alterando as duas\n",
    "b[2] = 8\n",
    "print(f\"Lista A: {a}\")\n",
    "print(f\"Lista B: {b}\")"
   ]
  },
  {
   "cell_type": "code",
   "execution_count": 31,
   "metadata": {
    "tags": []
   },
   "outputs": [
    {
     "output_type": "stream",
     "name": "stdout",
     "text": "[2, 3, 4, 7]\n[2, 3, 8, 7]\n"
    }
   ],
   "source": [
    "a = [2,3,4,7]\n",
    "b = a[:]  # assim não cria uma ligação cria uma copia\n",
    "b[2] = 8\n",
    "print(f\"Lista A: {a}\")\n",
    "print(f\"Lista B: {b}\")"
   ]
  },
  {
   "cell_type": "code",
   "execution_count": null,
   "metadata": {},
   "outputs": [],
   "source": []
  }
 ]
}