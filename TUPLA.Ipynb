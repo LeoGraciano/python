{
 "metadata": {
  "language_info": {
   "codemirror_mode": {
    "name": "ipython",
    "version": 3
   },
   "file_extension": ".py",
   "mimetype": "text/x-python",
   "name": "python",
   "nbconvert_exporter": "python",
   "pygments_lexer": "ipython3",
   "version": "3.8.2-final"
  },
  "orig_nbformat": 2,
  "kernelspec": {
   "name": "python38264bitvenvvenv3b2b485530b64fcaa4f0bc417842616c",
   "display_name": "Python 3.8.2 64-bit ('venv': venv)"
  }
 },
 "nbformat": 4,
 "nbformat_minor": 2,
 "cells": [
  {
   "cell_type": "code",
   "execution_count": 32,
   "metadata": {
    "tags": []
   },
   "outputs": [
    {
     "output_type": "stream",
     "name": "stdout",
     "text": "('Hamburger', 'Suco', 'Pizza', 'Pudin')\nSuco\n('Suco', 'Pizza', 'Pudin')\nPudin\nEu vou comer Hamburger\nEu vou comer Suco\nEu vou comer Pizza\nEu vou comer Pudin\nComi pra caramba!!!\n"
    }
   ],
   "source": [
    "lanche = (\"Hamburger\", \"Suco\", \"Pizza\", \"Pudin\")\n",
    "print(lanche)\n",
    "print(lanche[1])\n",
    "print(lanche[1:])\n",
    "print(lanche[-1])\n",
    "for c in lanche:\n",
    "    print(f\"Eu vou comer {c}\")\n",
    "print(\"Comi pra caramba!!!\")\n"
   ]
  },
  {
   "cell_type": "code",
   "execution_count": 33,
   "metadata": {
    "tags": []
   },
   "outputs": [
    {
     "output_type": "stream",
     "name": "stdout",
     "text": "0\n1\n2\n3\n4\n"
    }
   ],
   "source": [
    "lanche = (\"Hamburguer\", \"Suco\", \"Pizza\", \"Pudim\", \"Batata frita\")\n",
    "for var1 in range(0,len(lanche)):\n",
    "    print(var1)"
   ]
  },
  {
   "cell_type": "code",
   "execution_count": 34,
   "metadata": {
    "tags": []
   },
   "outputs": [
    {
     "output_type": "stream",
     "name": "stdout",
     "text": "('Hamburguer', 'Suco', 'Pizza', 'Pudim', 'Batata frita')\n('Hamburguer', 'Suco', 'Pizza', 'Pudim', 'Batata frita')\n('Hamburguer', 'Suco', 'Pizza', 'Pudim', 'Batata frita')\n('Hamburguer', 'Suco', 'Pizza', 'Pudim', 'Batata frita')\n('Hamburguer', 'Suco', 'Pizza', 'Pudim', 'Batata frita')\n"
    }
   ],
   "source": [
    "lanche = (\"Hamburguer\", \"Suco\", \"Pizza\", \"Pudim\", \"Batata frita\")\n",
    "for var1 in range(0,len(lanche)):\n",
    "    print(lanche)"
   ]
  },
  {
   "cell_type": "code",
   "execution_count": 35,
   "metadata": {
    "tags": []
   },
   "outputs": [
    {
     "output_type": "stream",
     "name": "stdout",
     "text": "Hamburguer\nSuco\nPizza\nPudim\nBatata frita\n"
    }
   ],
   "source": [
    "lanche = (\"Hamburguer\", \"Suco\", \"Pizza\", \"Pudim\", \"Batata frita\")\n",
    "for var1 in range(0,len(lanche)):\n",
    "    print(lanche[var1])"
   ]
  },
  {
   "cell_type": "code",
   "execution_count": 36,
   "metadata": {
    "tags": []
   },
   "outputs": [
    {
     "output_type": "stream",
     "name": "stdout",
     "text": "Eu vou comer Hamburguer na posição 0.\nEu vou comer Suco na posição 1.\nEu vou comer Pizza na posição 2.\nEu vou comer Pudim na posição 3.\nEu vou comer Batata frita na posição 4.\n"
    }
   ],
   "source": [
    "lanche = (\"Hamburguer\", \"Suco\", \"Pizza\", \"Pudim\", \"Batata frita\")\n",
    "for var2, var1 in enumerate(lanche):\n",
    "        print(f\"Eu vou comer {var1} na posição {var2}.\")"
   ]
  },
  {
   "cell_type": "code",
   "execution_count": 37,
   "metadata": {
    "tags": []
   },
   "outputs": [
    {
     "output_type": "stream",
     "name": "stdout",
     "text": "['Batata frita', 'Hamburguer', 'Pizza', 'Pudim', 'Suco']\n('Hamburguer', 'Suco', 'Pizza', 'Pudim', 'Batata frita')\n"
    }
   ],
   "source": [
    "lanche = (\"Hamburguer\", \"Suco\", \"Pizza\", \"Pudim\", \"Batata frita\")\n",
    "print(sorted(lanche))#Colocar em ordem alfanumerica.\n",
    "print(lanche) # mas não alterou só exibiu de forma diferente."
   ]
  },
  {
   "cell_type": "code",
   "execution_count": 38,
   "metadata": {
    "tags": []
   },
   "outputs": [
    {
     "output_type": "stream",
     "name": "stdout",
     "text": "(2, 5, 4)\n(5, 8, 1, 2)\n(5, 8, 1, 2, 2, 5, 4)\n[1, 2, 2, 4, 5, 5, 8]\n"
    }
   ],
   "source": [
    "a = (2,5,4)\n",
    "b = (5,8,1,2)\n",
    "c = b+a\n",
    "print(a)\n",
    "print(b)\n",
    "print(c)\n",
    "print(sorted(c))"
   ]
  },
  {
   "cell_type": "code",
   "execution_count": 39,
   "metadata": {
    "tags": []
   },
   "outputs": [
    {
     "output_type": "stream",
     "name": "stdout",
     "text": "2\n"
    }
   ],
   "source": [
    "a = (2,5,4)\n",
    "b = (5,8,1,2)\n",
    "c = b+a\n",
    "print(c.count(5)) #Quando numero tem o \"5\"  "
   ]
  },
  {
   "cell_type": "code",
   "execution_count": 49,
   "metadata": {
    "tags": []
   },
   "outputs": [
    {
     "output_type": "stream",
     "name": "stdout",
     "text": "0\n5\n"
    }
   ],
   "source": [
    "a = (2,5,4)\n",
    "b = (5,8,1,2)\n",
    "c = b+a\n",
    "#print(c.index(8)) # qual posiçao usar o Index\n",
    "print(c.index(5)) # quando um int ou str repetida, ele pega a primeira\n",
    "print(c.index(5, 1))"
   ]
  },
  {
   "cell_type": "code",
   "execution_count": null,
   "metadata": {},
   "outputs": [],
   "source": []
  }
 ]
}