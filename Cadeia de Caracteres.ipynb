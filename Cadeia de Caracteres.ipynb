{
 "metadata": {
  "language_info": {
   "codemirror_mode": {
    "name": "ipython",
    "version": 3
   },
   "file_extension": ".py",
   "mimetype": "text/x-python",
   "name": "python",
   "nbconvert_exporter": "python",
   "pygments_lexer": "ipython3",
   "version": "3.8.5-final"
  },
  "orig_nbformat": 2,
  "kernelspec": {
   "name": "python38564bit6aa15f82f14244be89b91bf5a49c040f",
   "display_name": "Python 3.8.5 64-bit"
  }
 },
 "nbformat": 4,
 "nbformat_minor": 2,
 "cells": [
  {
   "cell_type": "code",
   "execution_count": 109,
   "metadata": {
    "tags": []
   },
   "outputs": [
    {
     "output_type": "stream",
     "name": "stdout",
     "text": "Curso em Video Python\n"
    },
    {
     "output_type": "execute_result",
     "data": {
      "text/plain": "(21, str)"
     },
     "metadata": {},
     "execution_count": 109
    }
   ],
   "source": [
    "f = ('Curso em Video Python')\n",
    "print (f)\n",
    "len(f),type(f)\n"
   ]
  },
  {
   "cell_type": "code",
   "execution_count": 110,
   "metadata": {},
   "outputs": [
    {
     "output_type": "execute_result",
     "data": {
      "text/plain": "('V', 'Vi', ' em Video Python', 'Curso em ', 'r  d tn', 'ideo')"
     },
     "metadata": {},
     "execution_count": 110
    }
   ],
   "source": [
    "#fatinando o conteudo em numero de carecteres, pode ser usar : para determina o range do fatiamento\n",
    "f[9],f[9:11],f[5:],f[:9],f[2::3],f[10:14]"
   ]
  },
  {
   "cell_type": "code",
   "execution_count": 111,
   "metadata": {
    "tags": []
   },
   "outputs": [
    {
     "output_type": "stream",
     "name": "stdout",
     "text": "Curso em Video Python\n"
    },
    {
     "output_type": "execute_result",
     "data": {
      "text/plain": "(3, 2, 1)"
     },
     "metadata": {},
     "execution_count": 111
    }
   ],
   "source": [
    "#pode ser usar a variavel .count() para poder saber quando caracter contem no conteudo analisando. usando elementos , par definir o range de contagem.\n",
    "print(f )\n",
    "f.count('o'),f.count('e'),f.count('o',0,13)"
   ]
  },
  {
   "cell_type": "code",
   "execution_count": 112,
   "metadata": {
    "tags": []
   },
   "outputs": [
    {
     "output_type": "stream",
     "name": "stdout",
     "text": "Curso em Video Python\n"
    },
    {
     "output_type": "execute_result",
     "data": {
      "text/plain": "(11, -1, False)"
     },
     "metadata": {},
     "execution_count": 112
    }
   ],
   "source": [
    "#usando o .find() você encontra e te monstra o caracter inicial onde começou a frase. E quando busca algo que não existe ele te retorna com -1. pode se procurar in para a palavra em fazer com True e False\n",
    "print(f)\n",
    "f.find('deo'), f.find('Android') , 'curso' in f"
   ]
  },
  {
   "cell_type": "code",
   "execution_count": 113,
   "metadata": {
    "tags": []
   },
   "outputs": [
    {
     "output_type": "stream",
     "name": "stdout",
     "text": "Curso em Video Android\n"
    },
    {
     "output_type": "execute_result",
     "data": {
      "text/plain": "22"
     },
     "metadata": {},
     "execution_count": 113
    }
   ],
   "source": [
    "#pode ser usar uma parte da conteudo por outro pode ser usar o .replace()\n",
    "f1 = f.replace('Python','Android')\n",
    "print(f1)\n",
    "len(f1)"
   ]
  },
  {
   "cell_type": "code",
   "execution_count": 114,
   "metadata": {
    "tags": []
   },
   "outputs": [
    {
     "output_type": "stream",
     "name": "stdout",
     "text": "Curso em Video Python\n"
    },
    {
     "output_type": "execute_result",
     "data": {
      "text/plain": "('CURSO EM VIDEO PYTHON',\n 'curso em video python',\n 'Curso Em Video Python',\n 'Curso em video python',\n 'cURSO EM vIDEO pYTHON')"
     },
     "metadata": {},
     "execution_count": 114
    }
   ],
   "source": [
    "#usando metados .upper() vai coloca tudo em Letras Maiusculas, .lower() para minusculas, .title() Coloca todas letras inicial do coutendo em maiusculas .capitalize deixas começou da frase priemira etra maiscula .swapcase investe as tomanho das letras .\n",
    "print(f)\n",
    "f.upper(), f.lower(), f.title(), f.capitalize(), f.swapcase(),"
   ]
  },
  {
   "cell_type": "code",
   "execution_count": 115,
   "metadata": {},
   "outputs": [
    {
     "output_type": "execute_result",
     "data": {
      "text/plain": "('Curso em Video Android',\n '   Curso em Video Android',\n 'Curso em Video Android  ')"
     },
     "metadata": {},
     "execution_count": 115
    }
   ],
   "source": [
    "#usando o metado .strip ou .rstrip e .lstrip vai remover os espaço vagos do coutendo tanto ambos laods quanto direita e essquerda usando R ou L\n",
    "f1 = ('   Curso em Video Android  ')\n",
    "f1.strip(),f1.rstrip(),f1.lstrip()"
   ]
  },
  {
   "cell_type": "code",
   "execution_count": 116,
   "metadata": {
    "tags": []
   },
   "outputs": [
    {
     "output_type": "stream",
     "name": "stdout",
     "text": "Curso em Video Python\n['Curso', 'em', 'Video', 'Python']\n"
    },
    {
     "output_type": "execute_result",
     "data": {
      "text/plain": "6"
     },
     "metadata": {},
     "execution_count": 116
    }
   ],
   "source": [
    "#a metado .split() tem função de separa as palavras onde existe espaço\n",
    "print(f)\n",
    "f = f.split()\n",
    "print (f)\n",
    "type(f),len(f)\n",
    "len(f[3])\n"
   ]
  },
  {
   "cell_type": "code",
   "execution_count": 117,
   "metadata": {
    "tags": []
   },
   "outputs": [
    {
     "output_type": "stream",
     "name": "stdout",
     "text": "Curso em Video Python\n"
    },
    {
     "output_type": "execute_result",
     "data": {
      "text/plain": "(str, 21)"
     },
     "metadata": {},
     "execution_count": 117
    }
   ],
   "source": [
    "#E .join() pegas essa separação e junta em uma unica string com todos cracteres\n",
    "f = ' '.join(f)\n",
    "print(f)\n",
    "type(f),len(f)"
   ]
  }
 ]
}