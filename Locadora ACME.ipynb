{
 "metadata": {
  "language_info": {
   "codemirror_mode": {
    "name": "ipython",
    "version": 3
   },
   "file_extension": ".py",
   "mimetype": "text/x-python",
   "name": "python",
   "nbconvert_exporter": "python",
   "pygments_lexer": "ipython3",
   "version": "3.8.5-final"
  },
  "orig_nbformat": 2,
  "kernelspec": {
   "name": "python38532bita2717775b9d948d19557e17840cd6538",
   "display_name": "Python 3.8.5 32-bit"
  }
 },
 "nbformat": 4,
 "nbformat_minor": 2,
 "cells": [
  {
   "cell_type": "code",
   "execution_count": 75,
   "metadata": {},
   "outputs": [],
   "source": [
    "from datetime import datetime\n",
    "def cadastro_clientes():\n",
    "    print(' =-=-=-Cadastro do Cliente-=-=-=')\n",
    "    cpf = int(input(' Informe CPF:'))\n",
    "    nome = str(input(' Informe o nome:'))\n",
    "    rg = int(input(' Informe RG:'))\n",
    "    # criando o dicionario\n",
    "    dados_clientes = {}\n",
    "    # organizando o dicionario\n",
    "    dados_clientes[cpf] = [nome, rg]\n",
    "    # salvando no arquivo csv.\n",
    "    salvar_csv = open('clientes.csv', 'a')\n",
    "    salvar_csv.write(f'{nome};{rg};{cpf}\\n')\n",
    "    salvar_csv.close()\n",
    "    \"\"\"Um print na tela, no final de todo processo, para ter certeza \n",
    "    que a função por completo foi concluida.\"\"\"\n",
    "    print(' =-=-=-Cadastro Realizado!-=-=-=')"
   ]
  },
  {
   "cell_type": "code",
   "execution_count": 76,
   "metadata": {},
   "outputs": [],
   "source": [
    "def cadastro_filmes():\n",
    "    print(' =-=-=-Cadastro de Filmes-=-=-=')\n",
    "    codigo = str(input(' Informe codigo do Filme:'))\n",
    "    tipo = str(input(' DVD ou FITA ?'))\n",
    "    titulo = str(input(' Informe nome do Filme:'))\n",
    "    ano = int(input(' Informe ano de lançamento:'))\n",
    "    # criando o dicionario\n",
    "    dados_filmes = {}\n",
    "    # organizando o dicionario\n",
    "    dados_filmes[codigo] = [tipo, titulo, ano]\n",
    "    # salvando no arquivo csv.\n",
    "    salvar_csv = open('filmes.csv', 'a')\n",
    "    salvar_csv.write(f'{codigo};{tipo};{titulo};{ano}\\n')\n",
    "    salvar_csv.close()\n",
    "    \"\"\"\n",
    "    Um print na tela, no final de todo processo, para ter certeza \n",
    "    que a função por completo foi concluida.\n",
    "    \"\"\"\n",
    "    print(' =-=-=-Cadastro Realizado!-=-=-=\\n')"
   ]
  },
  {
   "cell_type": "code",
   "execution_count": 77,
   "metadata": {},
   "outputs": [],
   "source": [
    "def alocacao_filmes():\n",
    "    print(' =-=-=-Registrando Alocação-=-=-=')\n",
    "    nome = str(input(' Informe nome do locatario:'))\n",
    "    codproduto = int(input(' Indorme Codigo do filme alugado:'))\n",
    "    data = datetime.now()\n",
    "    data_alugado_str = data.strftime(' %d/%m/%Y')\n",
    "    print('Dia da locação:', data_alugado_str)\n",
    "    dados_alocacao = {}\n",
    "    dados_alocacao[codproduto] = [nome, data_alugado_str]\n",
    "    salvar_csv = open('emprestimos.csv', 'a')\n",
    "    salvar_csv.write(f'{codproduto};{nome};{data_alugado_str}\\n')\n",
    "    salvar_csv.close\n",
    "    print('Locação concluida com sucesso!')"
   ]
  },
  {
   "cell_type": "code",
   "execution_count": 78,
   "metadata": {},
   "outputs": [],
   "source": [
    "def atrasadinhos():\n",
    "    clientes = open('clientes.csv', 'r')\n",
    "    filmes = open('filmes.csv', 'r')\n",
    "    emprestimos = open('emprestimos.csv', 'r')\n",
    "    clientes = clientes.readlines()\n",
    "    filmes = filmes.readlines()\n",
    "    emprestimos = emprestimos.readlines()\n",
    "    quantidade_dias = 0\n",
    "    # pegar data de hoje\n",
    "    data_hoje = datetime.now()\n",
    "    data_hoje = str(data_hoje)\n",
    "    data_hoje = data_hoje[:10]\n",
    "    ano_hoje, mes_hoje, dia_hoje = data_hoje.split('-')\n",
    "    # verificar emprestimos\n",
    "    cpf_atual = 0\n",
    "    nome_filme_atual = ''\n",
    "    print('CPF Nome Título Empréstimo Situação Dias')\n",
    "    for item in emprestimos:\n",
    "        id_filme, nome_atual, data_atual = item.split(';')\n",
    "        dia, mes, ano = data_atual.split('-')\n",
    "        # 2020               2019\n",
    "        if int(ano_hoje) > int(ano):\n",
    "            quantidade_dias += (int(ano_hoje) - int(ano)) * 365\n",
    "            # maio 05     julho 07\n",
    "            if (int(mes_hoje) - int(mes)) > 0:\n",
    "                quantidade_dias += int(mes_hoje) - int(mes) * 30\n",
    "                if int(dia_hoje) < int(dia):  # mesmo ano meses diferentes dia de hoje menor\n",
    "                    quantidade_dias += int(dia) - int(dia_hoje)\n",
    "                elif int(dia_hoje) > int(dia):  # mesmo ano meses diferentes dia de hoje maior\n",
    "                    quantidade_dias -= int(dia_hoje) - int(dia)\n",
    "            elif (int(mes_hoje) - int(mes)) < 0:\n",
    "                quantidade_dias -= abs(int(mes_hoje) - int(mes)) * 30\n",
    "                if int(dia_hoje) < int(dia):  # mesmo ano meses diferentes dia de hoje menor\n",
    "                    quantidade_dias += int(dia) - int(dia_hoje)\n",
    "                elif int(dia_hoje) > int(dia):  # mesmo ano meses diferentes dia de hoje maior\n",
    "                    quantidade_dias -= int(dia_hoje) - int(dia)\n",
    "            elif int(mes_hoje) == int(mes):\n",
    "                if int(dia_hoje) > int(dia):  # MESMO ANO E MES MAS DIAS DIFERENTES\n",
    "                    quantidade_dias = int(dia_hoje) - int(dia)\n",
    "        elif int(ano_hoje) == int(ano):\n",
    "            # 08-13               #06-06\n",
    "            if int(mes_hoje) > int(mes):  # mesmo ano meses diferentes\n",
    "                quantidade_dias += (int(mes_hoje) - int(mes)) * 30\n",
    "                if int(dia_hoje) < int(dia):  # mesmo ano meses diferentes dia de hoje menor\n",
    "                    quantidade_dias += int(dia) - int(dia_hoje)\n",
    "                elif int(dia_hoje) > int(dia):  # mesmo ano meses diferentes dia de hoje maior\n",
    "                    quantidade_dias -= int(dia_hoje) - int(dia)\n",
    "            elif int(mes_hoje) == int(mes):\n",
    "                if int(dia_hoje) > int(dia):  # MESMO ANO E MES MAS DIAS DIFERENTES\n",
    "                    quantidade_dias = int(dia_hoje) - int(dia)\n",
    "                    quantidade_dias = 6"
   ]
  },
  {
   "cell_type": "code",
   "execution_count": 86,
   "metadata": {},
   "outputs": [
    {
     "output_type": "error",
     "ename": "IndentationError",
     "evalue": "unexpected indent (<ipython-input-86-df385c4d65fa>, line 2)",
     "traceback": [
      "\u001b[1;36m  File \u001b[1;32m\"<ipython-input-86-df385c4d65fa>\"\u001b[1;36m, line \u001b[1;32m2\u001b[0m\n\u001b[1;33m    if quantidade_dias > 7:\u001b[0m\n\u001b[1;37m    ^\u001b[0m\n\u001b[1;31mIndentationError\u001b[0m\u001b[1;31m:\u001b[0m unexpected indent\n"
     ]
    }
   ],
   "source": [
    "####### PARTE IMPORTANTE #######\n",
    "    if quantidade_dias > 7:\n",
    "        for cliente in clientes:\n",
    "            nome, rg, cpf = cliente.split(';')\n",
    "            if nome_atual == nome:\n",
    "                cpf_atual = cpf\n",
    "                break\n",
    "        for filme in filmes:\n",
    "            id_agora, _, nome, _ = filme.split(';')\n",
    "            if id_agora == id_filme:\n",
    "                nome_filme_atual = nome\n",
    "                break\n",
    "            print(\n",
    "                f'{cpf_atual}|{nome_atual}|{nome_filme_atual}|{data_atual}|atrasado|{quantidade_dias}')\n",
    "\n"
   ]
  },
  {
   "cell_type": "code",
   "execution_count": null,
   "metadata": {},
   "outputs": [],
   "source": []
  }
 ]
}