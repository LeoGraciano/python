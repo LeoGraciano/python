{
 "metadata": {
  "language_info": {
   "codemirror_mode": {
    "name": "ipython",
    "version": 3
   },
   "file_extension": ".py",
   "mimetype": "text/x-python",
   "name": "python",
   "nbconvert_exporter": "python",
   "pygments_lexer": "ipython3",
   "version": "3.8.2-final"
  },
  "orig_nbformat": 2,
  "kernelspec": {
   "name": "python38264bitcfb92f26e26f46899e84be7b80707a0c",
   "display_name": "Python 3.8.2 64-bit"
  }
 },
 "nbformat": 4,
 "nbformat_minor": 2,
 "cells": [
  {
   "cell_type": "code",
   "execution_count": 2,
   "metadata": {
    "tags": []
   },
   "outputs": [
    {
     "output_type": "stream",
     "name": "stdout",
     "text": "[['Gustavo', 40], ['Maria', 22]]\n['Maria', 22]\n"
    }
   ],
   "source": [
    "teste = list()\n",
    "teste.append(\"Gustavo\")\n",
    "teste.append(40)\n",
    "galera = list()\n",
    "galera.append(teste[:])\n",
    "teste[0] = \"Maria\"\n",
    "teste[1] = 22\n",
    "galera.append(teste[:])\n",
    "print(galera)\n",
    "print(teste)"
   ]
  },
  {
   "cell_type": "code",
   "execution_count": 7,
   "metadata": {
    "tags": []
   },
   "outputs": [
    {
     "output_type": "stream",
     "name": "stdout",
     "text": "[['João', 19], ['Ana', 33], ['Joaquin', 13], ['Maria', 45]]\n13\n['Maria', 45]\n[['Ana', 33], ['Joaquin', 13], ['João', 19], ['Maria', 45]]\n"
    }
   ],
   "source": [
    "galera = [[\"João\",19],[\"Ana\", 33],[\"Joaquin\",13],[\"Maria\",45]]\n",
    "print (galera)\n",
    "print(galera[2][1])\n",
    "print(galera[3])\n",
    "galera.sort()\n",
    "print(galera)"
   ]
  },
  {
   "cell_type": "code",
   "execution_count": 10,
   "metadata": {
    "tags": []
   },
   "outputs": [
    {
     "output_type": "stream",
     "name": "stdout",
     "text": "João tem 19 anos de idade.\nAna tem 33 anos de idade.\nJoaquin tem 13 anos de idade.\nMaria tem 45 anos de idade.\n"
    }
   ],
   "source": [
    "galera = [[\"João\",19],[\"Ana\", 33],[\"Joaquin\",13],[\"Maria\",45]]\n",
    "for p in galera:\n",
    "    print(f\"{p[0]} tem {p[1]} anos de idade.\")"
   ]
  },
  {
   "cell_type": "code",
   "execution_count": 12,
   "metadata": {
    "tags": []
   },
   "outputs": [
    {
     "output_type": "stream",
     "name": "stdout",
     "text": "[]\n[['Leonardo', 35], ['Yuri', 16], ['Jessica', 28]]\nLeonardo é maior de Idade.\nYuri é menor de idade.\nJessica é maior de Idade.\nTemos 2 maiores de 1 menores de idade.\n"
    }
   ],
   "source": [
    "galera = list()\n",
    "dado = list()\n",
    "idmax = idmin = 0\n",
    "for c in range(0,3):\n",
    "    dado.append(str(input(\"Nome: \")))\n",
    "    dado.append(int(input(\"Idade: \")))\n",
    "    galera.append(dado[:])\n",
    "    dado.clear()\n",
    "print(dado)\n",
    "print(galera)\n",
    "for p in galera:\n",
    "    if p[1]>= 21:\n",
    "        print(f\"{p[0]} é maior de Idade.\")\n",
    "        idmax+=1\n",
    "    else:\n",
    "        print(f\"{p[0]} é menor de idade.\")\n",
    "        idmin+=1\n",
    "print(f\"Temos {idmax} maiores de {idmin} menores de idade.\")"
   ]
  },
  {
   "cell_type": "code",
   "execution_count": null,
   "metadata": {},
   "outputs": [],
   "source": []
  }
 ]
}