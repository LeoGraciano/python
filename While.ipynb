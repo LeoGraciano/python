{
 "metadata": {
  "language_info": {
   "codemirror_mode": {
    "name": "ipython",
    "version": 3
   },
   "file_extension": ".py",
   "mimetype": "text/x-python",
   "name": "python",
   "nbconvert_exporter": "python",
   "pygments_lexer": "ipython3",
   "version": "3.8.2-final"
  },
  "orig_nbformat": 2,
  "kernelspec": {
   "name": "python3",
   "display_name": "Python 3"
  }
 },
 "nbformat": 4,
 "nbformat_minor": 2,
 "cells": [
  {
   "cell_type": "code",
   "execution_count": 6,
   "metadata": {
    "tags": []
   },
   "outputs": [
    {
     "output_type": "stream",
     "name": "stdout",
     "text": "0 1 2 3 4 5 6 7 8 9 10 FIM\n"
    }
   ],
   "source": [
    "c = 0\n",
    "while c <11:\n",
    "    print (c, end=\" \")\n",
    "    c+= 1\n",
    "print (\"FIM\")"
   ]
  },
  {
   "cell_type": "code",
   "execution_count": 1,
   "metadata": {
    "tags": []
   },
   "outputs": [
    {
     "output_type": "stream",
     "name": "stdout",
     "text": "FIM\n"
    }
   ],
   "source": [
    "r = \"S\"\n",
    "while r == \"S\":\n",
    "    n = int(input(\"Digite um valor: \"))\n",
    "    r = str(input(\"Quer Continuar: [S/N]\")).upper().split()\n",
    "print (\"FIM\")"
   ]
  },
  {
   "cell_type": "code",
   "execution_count": 26,
   "metadata": {
    "tags": []
   },
   "outputs": [
    {
     "output_type": "stream",
     "name": "stdout",
     "text": "Você digitou numeros 7 números e 2.\n"
    }
   ],
   "source": [
    "n = 1\n",
    "par = impar = 0\n",
    "while n != 0:\n",
    "    n = int(input(\"Digite um favor: \"))\n",
    "    if n != 0:\n",
    "        if n % 2 == 0:\n",
    "            par +=1\n",
    "        else:\n",
    "            impar += 1\n",
    "print (f\"Você digitou numeros {par}impares números e {impar} impares.\")  "
   ]
  },
  {
   "cell_type": "code",
   "execution_count": null,
   "metadata": {},
   "outputs": [],
   "source": []
  }
 ]
}