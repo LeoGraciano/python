{
 "metadata": {
  "language_info": {
   "codemirror_mode": {
    "name": "ipython",
    "version": 3
   },
   "file_extension": ".py",
   "mimetype": "text/x-python",
   "name": "python",
   "nbconvert_exporter": "python",
   "pygments_lexer": "ipython3",
   "version": "3.8.5-final"
  },
  "orig_nbformat": 2,
  "kernelspec": {
   "name": "python38532bitcabfe2c372934fbf93124fdd104b9d95",
   "display_name": "Python 3.8.5 32-bit"
  }
 },
 "nbformat": 4,
 "nbformat_minor": 2,
 "cells": [
  {
   "cell_type": "code",
   "execution_count": null,
   "metadata": {
    "tags": []
   },
   "outputs": [],
   "source": [
    "#Primeira Mensagem de teste.\n",
    "msg = 'Olá, Mundo!'\n",
    "print(msg)"
   ]
  },
  {
   "cell_type": "code",
   "execution_count": null,
   "metadata": {
    "tags": []
   },
   "outputs": [],
   "source": [
    "#Calculadora de Soma\n",
    "print('Soma')\n",
    "n1 = int (input ('Primeiro numero: '))\n",
    "n2 = int (input ('Segundo numéro: '))\n",
    "s= n1 + n2\n",
    "print('A soma dos numeros {} e {} é: {}.' .format(n1,n2,s))"
   ]
  },
  {
   "cell_type": "code",
   "execution_count": null,
   "metadata": {
    "tags": []
   },
   "outputs": [],
   "source": [
    "#Variaveis do tipo inteiro receberem valores númericos.\n",
    "n = 8\n",
    "print (n)\n",
    "type (n)\n",
    "n = 'oi'\n",
    "print (n)\n",
    "type(n)"
   ]
  },
  {
   "cell_type": "code",
   "execution_count": null,
   "metadata": {},
   "outputs": [],
   "source": [
    "#Lista podem receber um conjunto de valores diferentes tipo:\n",
    "listas = [1,2,3,'j',5]\n",
    "type(listas)"
   ]
  },
  {
   "cell_type": "code",
   "execution_count": null,
   "metadata": {
    "tags": []
   },
   "outputs": [],
   "source": [
    "#O conteudos das listas pode ser recuperados utilizando Indices\n",
    "print(listas[0])\n",
    "#Python aceita indices negativos\n",
    "print(listas[-1])\n",
    "#Ou aceita range, definino parte da lista\n",
    "print(listas[0:2])"
   ]
  },
  {
   "cell_type": "code",
   "execution_count": null,
   "metadata": {
    "tags": []
   },
   "outputs": [],
   "source": [
    "#Pode ser adcionar conteudo adcionais a lista\n",
    "listas.append(10)\n",
    "print (listas)\n",
    "#Pode se sobreescrever dados da lista\n",
    "listas[-1]=11\n",
    "listas"
   ]
  },
  {
   "cell_type": "code",
   "execution_count": null,
   "metadata": {
    "tags": []
   },
   "outputs": [],
   "source": [
    "#pode se chamar ajuda rodando o Help\n",
    "help(listas)"
   ]
  },
  {
   "cell_type": "code",
   "execution_count": null,
   "metadata": {
    "tags": []
   },
   "outputs": [],
   "source": [
    "#Tuplas são objetivos imutáveis, não podendo sofre fracionamento\n",
    "tupla=('teste',1,2,3,4,4.0)\n",
    "print (tupla)"
   ]
  },
  {
   "cell_type": "code",
   "execution_count": null,
   "metadata": {},
   "outputs": [],
   "source": [
    "tupla[-1]=5\n",
    "tupla"
   ]
  },
  {
   "cell_type": "code",
   "execution_count": null,
   "metadata": {},
   "outputs": [],
   "source": [
    "type(tupla)"
   ]
  },
  {
   "cell_type": "code",
   "execution_count": null,
   "metadata": {
    "tags": []
   },
   "outputs": [],
   "source": [
    "#montar lista com numeros pares ou impares\n",
    "l1=list (range(0,31))\n",
    "print(l1)\n",
    "impares=list (range(1,30,2))\n",
    "print(impares)\n",
    "pares=list (range(0,31,2))\n",
    "print(pares)"
   ]
  },
  {
   "cell_type": "code",
   "execution_count": null,
   "metadata": {
    "tags": []
   },
   "outputs": [],
   "source": [
    "#lista dentro de uma lista\n",
    "l2 = [10,20,30,40,[9,8,7,6,5,4,3,1,0]]\n",
    "print(l2)\n"
   ]
  },
  {
   "cell_type": "code",
   "execution_count": null,
   "metadata": {
    "tags": []
   },
   "outputs": [],
   "source": [
    "#ver tamanho de objetos no Python\n",
    "print(l2)\n",
    "len(l2)"
   ]
  },
  {
   "cell_type": "code",
   "execution_count": null,
   "metadata": {},
   "outputs": [],
   "source": []
  }
 ]
}