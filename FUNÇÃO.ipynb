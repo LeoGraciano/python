{
 "metadata": {
  "language_info": {
   "codemirror_mode": {
    "name": "ipython",
    "version": 3
   },
   "file_extension": ".py",
   "mimetype": "text/x-python",
   "name": "python",
   "nbconvert_exporter": "python",
   "pygments_lexer": "ipython3",
   "version": "3.8.2-final"
  },
  "orig_nbformat": 2,
  "kernelspec": {
   "name": "python38264bitvenvvenvc7328f15889a45e48c1bab46292010fc",
   "display_name": "Python 3.8.2 64-bit ('venv': venv)"
  }
 },
 "nbformat": 4,
 "nbformat_minor": 2,
 "cells": [
  {
   "cell_type": "code",
   "execution_count": 1,
   "metadata": {
    "tags": []
   },
   "outputs": [
    {
     "output_type": "stream",
     "name": "stdout",
     "text": "-=-=-=-=-=-=-=-=-=-=-=-=-=-=-=-=-=-=-=-=\nCurso em Video\n-=-=-=-=-=-=-=-=-=-=-=-=-=-=-=-=-=-=-=-=\n"
    }
   ],
   "source": [
    "def lin():\n",
    "    print(\"-=\"*20)\n",
    "\n",
    "lin()\n",
    "print(\"Curso em Video\")\n",
    "lin()"
   ]
  },
  {
   "cell_type": "code",
   "execution_count": 2,
   "metadata": {
    "tags": []
   },
   "outputs": [
    {
     "output_type": "stream",
     "name": "stdout",
     "text": "-=-=-=-=-=-=-=-=-=-=-=-=-=-=-=-=-=-=-=-=\nCurso em videos\n-=-=-=-=-=-=-=-=-=-=-=-=-=-=-=-=-=-=-=-=\n-=-=-=-=-=-=-=-=-=-=-=-=-=-=-=-=-=-=-=-=\nLeonardo & Jessica\n-=-=-=-=-=-=-=-=-=-=-=-=-=-=-=-=-=-=-=-=\n"
    }
   ],
   "source": [
    "def borda(msg):\n",
    "    print(\"-=\"*20)\n",
    "    print(msg)\n",
    "    print(\"-=\"*20)\n",
    "\n",
    "borda(\"Curso em videos\")\n",
    "borda(\"Leonardo & Jessica\")"
   ]
  },
  {
   "cell_type": "code",
   "execution_count": 5,
   "metadata": {
    "tags": []
   },
   "outputs": [
    {
     "output_type": "stream",
     "name": "stdout",
     "text": "7\n"
    }
   ],
   "source": [
    "def soma(a,b):\n",
    "   s = a+b\n",
    "   print(s)\n",
    "\n",
    "soma(2,5)"
   ]
  },
  {
   "cell_type": "code",
   "execution_count": 8,
   "metadata": {
    "tags": []
   },
   "outputs": [
    {
     "output_type": "stream",
     "name": "stdout",
     "text": "A = 25 e B = 10\nA Soma de A + B = 35\n"
    }
   ],
   "source": [
    "def soma(a,b):\n",
    "   print(f\"A = {a} e B = {b}\")\n",
    "   s = a+b\n",
    "   print(f\"A Soma de A + B = {s}\")\n",
    "\n",
    "soma(b=10,a=25)"
   ]
  },
  {
   "cell_type": "code",
   "execution_count": 11,
   "metadata": {
    "tags": []
   },
   "outputs": [
    {
     "output_type": "stream",
     "name": "stdout",
     "text": "(1, 2, 3, 4, 5, 6)\n"
    }
   ],
   "source": [
    "def contador(*núm):\n",
    "    print (núm)\n",
    "    \n",
    "contador(1,2,3,4,5,6)"
   ]
  },
  {
   "cell_type": "code",
   "execution_count": 13,
   "metadata": {
    "tags": []
   },
   "outputs": [
    {
     "output_type": "stream",
     "name": "stdout",
     "text": "1 2 3 4 5 6 Fim\n"
    }
   ],
   "source": [
    "def contador(*núm):\n",
    "    for valor in núm:\n",
    "        print (f\"{valor} \", end=\"\")\n",
    "    print(\"Fim\")\n",
    "\n",
    "contador(1,2,3,4,5,6)"
   ]
  },
  {
   "cell_type": "code",
   "execution_count": 14,
   "metadata": {
    "tags": []
   },
   "outputs": [
    {
     "output_type": "stream",
     "name": "stdout",
     "text": "Recebi os valores (1, 2, 3, 4, 5, 6) e são todos 6 números\n"
    }
   ],
   "source": [
    "def contador(*núm):\n",
    "    tam = len(núm)\n",
    "    print (f\"Recebi os valores {núm} e são todos {tam} números\")\n",
    "\n",
    "contador(1,2,3,4,5,6)"
   ]
  },
  {
   "cell_type": "code",
   "execution_count": 23,
   "metadata": {
    "tags": []
   },
   "outputs": [
    {
     "output_type": "stream",
     "name": "stdout",
     "text": "[12, 6, 18, 2, 0, 4]\n"
    }
   ],
   "source": [
    "def dobra(lst):\n",
    "    pos = 0\n",
    "    while pos < len(lst):\n",
    "        lst[pos]*=2\n",
    "        pos += 1\n",
    "\n",
    "valores = [6,3,9,1,0,2 ]\n",
    "dobra(valores)\n",
    "print(valores)"
   ]
  },
  {
   "cell_type": "code",
   "execution_count": 22,
   "metadata": {
    "tags": []
   },
   "outputs": [
    {
     "output_type": "stream",
     "name": "stdout",
     "text": "Somando os valores (2, 5, 7) temos 14\nSomando os valores (2, 1, 5, 7, 9, 15, 50) temos 89\n"
    }
   ],
   "source": [
    "def soma(*valores):\n",
    "    s = 0\n",
    "    for num in valores:\n",
    "        s+= num\n",
    "    print(f\"Somando os valores {valores} temos {s}\")\n",
    "\n",
    "soma(2,5,7)\n",
    "soma(2,1,5,7,9,15,50)"
   ]
  },
  {
   "cell_type": "code",
   "execution_count": null,
   "metadata": {},
   "outputs": [],
   "source": []
  }
 ]
}